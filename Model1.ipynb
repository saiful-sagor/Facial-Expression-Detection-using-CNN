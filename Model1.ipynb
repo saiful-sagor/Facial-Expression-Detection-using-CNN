{
 "cells": [
  {
   "cell_type": "code",
   "execution_count": 1,
   "metadata": {},
   "outputs": [
    {
     "name": "stderr",
     "output_type": "stream",
     "text": [
      "C:\\Users\\sagor\\AppData\\Roaming\\Python\\Python310\\site-packages\\scipy\\__init__.py:146: UserWarning: A NumPy version >=1.16.5 and <1.23.0 is required for this version of SciPy (detected version 1.24.2\n",
      "  warnings.warn(f\"A NumPy version >={np_minversion} and <{np_maxversion}\"\n"
     ]
    }
   ],
   "source": [
    "from keras.preprocessing.image import ImageDataGenerator\n",
    "from keras.models import Sequential\n",
    "from keras.layers import Dense,Dropout,Flatten\n",
    "from keras.layers import Conv2D,MaxPooling2D\n",
    "import os\n",
    "from matplotlib import pyplot as plt\n",
    "import numpy as np\n",
    "from keras import models\n"
   ]
  },
  {
   "cell_type": "code",
   "execution_count": 2,
   "metadata": {},
   "outputs": [],
   "source": [
    "IMG_HEIGHT=48 \n",
    "IMG_WIDTH = 48\n",
    "batch_size = 128\n",
    "\n",
    "train_data_dir='Train'\n",
    "validation_data_dir='Test'"
   ]
  },
  {
   "cell_type": "code",
   "execution_count": 3,
   "metadata": {},
   "outputs": [],
   "source": [
    "train_datagen = ImageDataGenerator(\n",
    "\t\t\t\t\trescale=1./255,\n",
    "\t\t\t\t\trotation_range=30,\n",
    "\t\t\t\t\tshear_range=0.3,\n",
    "\t\t\t\t\tzoom_range=0.3,\n",
    "\t\t\t\t\thorizontal_flip=True,\n",
    "\t\t\t\t\tfill_mode='nearest')\n",
    "\n",
    "validation_datagen = ImageDataGenerator(rescale=1./255)"
   ]
  },
  {
   "cell_type": "code",
   "execution_count": 4,
   "metadata": {},
   "outputs": [
    {
     "name": "stdout",
     "output_type": "stream",
     "text": [
      "Found 6300 images belonging to 7 classes.\n",
      "Found 700 images belonging to 7 classes.\n"
     ]
    }
   ],
   "source": [
    "train_generator = train_datagen.flow_from_directory(\n",
    "\t\t\t\t\ttrain_data_dir,\n",
    "\t\t\t\t\tcolor_mode='grayscale',\n",
    "\t\t\t\t\ttarget_size=(IMG_HEIGHT, IMG_WIDTH),\n",
    "\t\t\t\t\tbatch_size=batch_size,\n",
    "\t\t\t\t\tclass_mode='categorical',\n",
    "\t\t\t\t\tshuffle=True)\n",
    "\n",
    "validation_generator = validation_datagen.flow_from_directory(\n",
    "\t\t\t\t\t\t\tvalidation_data_dir,\n",
    "\t\t\t\t\t\t\tcolor_mode='grayscale',\n",
    "\t\t\t\t\t\t\ttarget_size=(IMG_HEIGHT, IMG_WIDTH),\n",
    "\t\t\t\t\t\t\tbatch_size=batch_size,\n",
    "\t\t\t\t\t\t\tclass_mode='categorical',\n",
    "\t\t\t\t\t\t\tshuffle=True)\n"
   ]
  },
  {
   "cell_type": "code",
   "execution_count": 5,
   "metadata": {},
   "outputs": [],
   "source": [
    "#Verify our generator by plotting a few faces and printing corresponding labels\n",
    "class_labels=['angry','disgust', 'fear', 'happy','neutral','sad','surprise']\n",
    "\n",
    "img, label = train_generator.__next__()"
   ]
  },
  {
   "cell_type": "code",
   "execution_count": 7,
   "metadata": {},
   "outputs": [
    {
     "data": {
      "image/png": "[encoded data removed]",
      "text/plain": [
       "<Figure size 640x480 with 1 Axes>"
      ]
     },
     "metadata": {},
     "output_type": "display_data"
    }
   ],
   "source": [
    "import random\n",
    "\n",
    "i=random.randint(0, (img.shape[0])-1)\n",
    "image = img[i]\n",
    "labl = class_labels[label[i].argmax()]\n",
    "plt.imshow(image[:,:,0], cmap='gray')\n",
    "plt.title(labl)\n",
    "plt.show()"
   ]
  },
  {
   "cell_type": "code",
   "execution_count": 8,
   "metadata": {},
   "outputs": [
    {
     "name": "stdout",
     "output_type": "stream",
     "text": [
      "Model: \"sequential\"\n",
      "_________________________________________________________________\n",
      " Layer (type)                Output Shape              Param #   \n",
      "=================================================================\n",
      " conv2d (Conv2D)             (None, 46, 46, 32)        320       \n",
      "                                                                 \n",
      " conv2d_1 (Conv2D)           (None, 44, 44, 64)        18496     \n",
      "                                                                 \n",
      " max_pooling2d (MaxPooling2D  (None, 22, 22, 64)       0         \n",
      " )                                                               \n",
      "                                                                 \n",
      " dropout (Dropout)           (None, 22, 22, 64)        0         \n",
      "                                                                 \n",
      " conv2d_2 (Conv2D)           (None, 20, 20, 128)       73856     \n",
      "                                                                 \n",
      " max_pooling2d_1 (MaxPooling  (None, 10, 10, 128)      0         \n",
      " 2D)                                                             \n",
      "                                                                 \n",
      " dropout_1 (Dropout)         (None, 10, 10, 128)       0         \n",
      "                                                                 \n",
      " conv2d_3 (Conv2D)           (None, 8, 8, 256)         295168    \n",
      "                                                                 \n",
      " max_pooling2d_2 (MaxPooling  (None, 4, 4, 256)        0         \n",
      " 2D)                                                             \n",
      "                                                                 \n",
      " dropout_2 (Dropout)         (None, 4, 4, 256)         0         \n",
      "                                                                 \n",
      " flatten (Flatten)           (None, 4096)              0         \n",
      "                                                                 \n",
      " dense (Dense)               (None, 512)               2097664   \n",
      "                                                                 \n",
      " dropout_3 (Dropout)         (None, 512)               0         \n",
      "                                                                 \n",
      " dense_1 (Dense)             (None, 7)                 3591      \n",
      "                                                                 \n",
      "=================================================================\n",
      "Total params: 2,489,095\n",
      "Trainable params: 2,489,095\n",
      "Non-trainable params: 0\n",
      "_________________________________________________________________\n",
      "None\n"
     ]
    }
   ],
   "source": [
    "# Create the model\n",
    "model = Sequential()\n",
    "\n",
    "model.add(Conv2D(32, kernel_size=(3, 3), activation='relu', input_shape=(48,48,1)))\n",
    "\n",
    "model.add(Conv2D(64, kernel_size=(3, 3), activation='relu'))\n",
    "model.add(MaxPooling2D(pool_size=(2, 2)))\n",
    "model.add(Dropout(0.1))\n",
    "\n",
    "model.add(Conv2D(128, kernel_size=(3, 3), activation='relu'))\n",
    "model.add(MaxPooling2D(pool_size=(2, 2)))\n",
    "model.add(Dropout(0.1))\n",
    "\n",
    "model.add(Conv2D(256, kernel_size=(3, 3), activation='relu'))\n",
    "model.add(MaxPooling2D(pool_size=(2, 2)))\n",
    "model.add(Dropout(0.1))\n",
    "\n",
    "model.add(Flatten())\n",
    "model.add(Dense(512, activation='relu'))\n",
    "model.add(Dropout(0.2))\n",
    "\n",
    "model.add(Dense(7, activation='softmax'))\n",
    "\n",
    "model.compile(optimizer = 'adam', loss='categorical_crossentropy', metrics=['accuracy'])\n",
    "print(model.summary())\n"
   ]
  },
  {
   "cell_type": "code",
   "execution_count": 10,
   "metadata": {},
   "outputs": [
    {
     "name": "stdout",
     "output_type": "stream",
     "text": [
      "700 6300\n"
     ]
    }
   ],
   "source": [
    "train_path = \"Train\"\n",
    "test_path = \"Test\"\n",
    "\n",
    "num_train_imgs = 0\n",
    "for root, dirs, files in os.walk(train_path):\n",
    "    num_train_imgs += len(files)\n",
    "    \n",
    "num_test_imgs = 0\n",
    "for root, dirs, files in os.walk(test_path):\n",
    "    num_test_imgs += len(files)\n",
    "\n",
    "print(num_test_imgs,num_train_imgs)    "
   ]
  },
  {
   "cell_type": "code",
   "execution_count": 9,
   "metadata": {},
   "outputs": [
    {
     "name": "stdout",
     "output_type": "stream",
     "text": [
      "Epoch 1/100\n",
      "49/49 [==============================] - 98s 2s/step - loss: 1.8792 - accuracy: 0.2140 - val_loss: 1.9031 - val_accuracy: 0.2094\n",
      "Epoch 2/100\n",
      "49/49 [==============================] - 74s 1s/step - loss: 1.6693 - accuracy: 0.3249 - val_loss: 1.9028 - val_accuracy: 0.2703\n",
      "Epoch 3/100\n",
      "49/49 [==============================] - 70s 1s/step - loss: 1.5758 - accuracy: 0.3757 - val_loss: 1.9202 - val_accuracy: 0.2750\n",
      "Epoch 4/100\n",
      "49/49 [==============================] - 72s 1s/step - loss: 1.5123 - accuracy: 0.4029 - val_loss: 1.7450 - val_accuracy: 0.3266\n",
      "Epoch 5/100\n",
      "49/49 [==============================] - 80s 2s/step - loss: 1.4434 - accuracy: 0.4320 - val_loss: 1.6743 - val_accuracy: 0.3531\n",
      "Epoch 6/100\n",
      "49/49 [==============================] - 81s 2s/step - loss: 1.3708 - accuracy: 0.4671 - val_loss: 1.5495 - val_accuracy: 0.3844\n",
      "Epoch 7/100\n",
      "49/49 [==============================] - 81s 2s/step - loss: 1.3015 - accuracy: 0.5057 - val_loss: 1.5565 - val_accuracy: 0.3531\n",
      "Epoch 8/100\n",
      "49/49 [==============================] - 78s 2s/step - loss: 1.2623 - accuracy: 0.5147 - val_loss: 1.5541 - val_accuracy: 0.4203\n",
      "Epoch 9/100\n",
      "49/49 [==============================] - 90s 2s/step - loss: 1.2051 - accuracy: 0.5395 - val_loss: 1.4189 - val_accuracy: 0.4656\n",
      "Epoch 10/100\n",
      "49/49 [==============================] - 88s 2s/step - loss: 1.1421 - accuracy: 0.5677 - val_loss: 1.3526 - val_accuracy: 0.4625\n",
      "Epoch 11/100\n",
      "49/49 [==============================] - 90s 2s/step - loss: 1.0752 - accuracy: 0.5886 - val_loss: 1.3664 - val_accuracy: 0.4688\n",
      "Epoch 12/100\n",
      "49/49 [==============================] - 91s 2s/step - loss: 1.0539 - accuracy: 0.6016 - val_loss: 1.2412 - val_accuracy: 0.4859\n",
      "Epoch 13/100\n",
      "49/49 [==============================] - 87s 2s/step - loss: 1.0095 - accuracy: 0.6111 - val_loss: 1.2074 - val_accuracy: 0.4953\n",
      "Epoch 14/100\n",
      "49/49 [==============================] - 85s 2s/step - loss: 0.9981 - accuracy: 0.6126 - val_loss: 1.2169 - val_accuracy: 0.5547\n",
      "Epoch 15/100\n",
      "49/49 [==============================] - 86s 2s/step - loss: 0.9465 - accuracy: 0.6434 - val_loss: 1.1476 - val_accuracy: 0.5625\n",
      "Epoch 16/100\n",
      "49/49 [==============================] - 84s 2s/step - loss: 0.9297 - accuracy: 0.6494 - val_loss: 1.0784 - val_accuracy: 0.5797\n",
      "Epoch 17/100\n",
      "49/49 [==============================] - 85s 2s/step - loss: 0.8859 - accuracy: 0.6666 - val_loss: 0.9859 - val_accuracy: 0.5984\n",
      "Epoch 18/100\n",
      "49/49 [==============================] - 86s 2s/step - loss: 0.8286 - accuracy: 0.6841 - val_loss: 0.9593 - val_accuracy: 0.6266\n",
      "Epoch 19/100\n",
      "49/49 [==============================] - 85s 2s/step - loss: 0.8227 - accuracy: 0.6844 - val_loss: 1.0019 - val_accuracy: 0.5844\n",
      "Epoch 20/100\n",
      "49/49 [==============================] - 84s 2s/step - loss: 0.8072 - accuracy: 0.6910 - val_loss: 1.2501 - val_accuracy: 0.5609\n",
      "Epoch 21/100\n",
      "49/49 [==============================] - 84s 2s/step - loss: 0.7810 - accuracy: 0.7053 - val_loss: 1.0489 - val_accuracy: 0.5906\n",
      "Epoch 22/100\n",
      "49/49 [==============================] - 85s 2s/step - loss: 0.7416 - accuracy: 0.7189 - val_loss: 1.0523 - val_accuracy: 0.6203\n",
      "Epoch 23/100\n",
      "49/49 [==============================] - 90s 2s/step - loss: 0.7374 - accuracy: 0.7176 - val_loss: 0.8645 - val_accuracy: 0.6641\n",
      "Epoch 24/100\n",
      "49/49 [==============================] - 87s 2s/step - loss: 0.6774 - accuracy: 0.7492 - val_loss: 0.9284 - val_accuracy: 0.6719\n",
      "Epoch 25/100\n",
      "49/49 [==============================] - 87s 2s/step - loss: 0.7238 - accuracy: 0.7291 - val_loss: 0.9697 - val_accuracy: 0.6469\n",
      "Epoch 26/100\n",
      "49/49 [==============================] - 89s 2s/step - loss: 0.6513 - accuracy: 0.7557 - val_loss: 0.8259 - val_accuracy: 0.6984\n",
      "Epoch 27/100\n",
      "49/49 [==============================] - 87s 2s/step - loss: 0.6905 - accuracy: 0.7406 - val_loss: 0.8727 - val_accuracy: 0.6750\n",
      "Epoch 28/100\n",
      "49/49 [==============================] - 90s 2s/step - loss: 0.6417 - accuracy: 0.7626 - val_loss: 0.9087 - val_accuracy: 0.6578\n",
      "Epoch 29/100\n",
      "49/49 [==============================] - 88s 2s/step - loss: 0.6186 - accuracy: 0.7674 - val_loss: 0.8536 - val_accuracy: 0.6844\n",
      "Epoch 30/100\n",
      "49/49 [==============================] - 83s 2s/step - loss: 0.6097 - accuracy: 0.7686 - val_loss: 0.7256 - val_accuracy: 0.7203\n",
      "Epoch 31/100\n",
      "49/49 [==============================] - 85s 2s/step - loss: 0.6023 - accuracy: 0.7733 - val_loss: 0.8541 - val_accuracy: 0.6906\n",
      "Epoch 32/100\n",
      "49/49 [==============================] - 84s 2s/step - loss: 0.5882 - accuracy: 0.7720 - val_loss: 0.8287 - val_accuracy: 0.6828\n",
      "Epoch 33/100\n",
      "49/49 [==============================] - 83s 2s/step - loss: 0.5518 - accuracy: 0.7997 - val_loss: 0.8614 - val_accuracy: 0.6859\n",
      "Epoch 34/100\n",
      "49/49 [==============================] - 95s 2s/step - loss: 0.5598 - accuracy: 0.7926 - val_loss: 0.7261 - val_accuracy: 0.7375\n",
      "Epoch 35/100\n",
      "49/49 [==============================] - 91s 2s/step - loss: 0.5393 - accuracy: 0.8004 - val_loss: 0.6901 - val_accuracy: 0.7516\n",
      "Epoch 36/100\n",
      "49/49 [==============================] - 84s 2s/step - loss: 0.5311 - accuracy: 0.7994 - val_loss: 0.7348 - val_accuracy: 0.7359\n",
      "Epoch 37/100\n",
      "49/49 [==============================] - 101s 2s/step - loss: 0.5022 - accuracy: 0.8108 - val_loss: 0.6945 - val_accuracy: 0.7594\n",
      "Epoch 38/100\n",
      "49/49 [==============================] - 94s 2s/step - loss: 0.5204 - accuracy: 0.8074 - val_loss: 0.8925 - val_accuracy: 0.6609\n",
      "Epoch 39/100\n",
      "49/49 [==============================] - 94s 2s/step - loss: 0.4954 - accuracy: 0.8177 - val_loss: 0.6519 - val_accuracy: 0.7609\n",
      "Epoch 40/100\n",
      "49/49 [==============================] - 109s 2s/step - loss: 0.4872 - accuracy: 0.8231 - val_loss: 0.6378 - val_accuracy: 0.7656\n",
      "Epoch 41/100\n",
      "49/49 [==============================] - 98s 2s/step - loss: 0.4784 - accuracy: 0.8252 - val_loss: 0.5563 - val_accuracy: 0.7969\n",
      "Epoch 42/100\n",
      "49/49 [==============================] - 94s 2s/step - loss: 0.4694 - accuracy: 0.8302 - val_loss: 0.6444 - val_accuracy: 0.7719\n",
      "Epoch 43/100\n",
      "49/49 [==============================] - 102s 2s/step - loss: 0.4829 - accuracy: 0.8163 - val_loss: 0.7327 - val_accuracy: 0.7609\n",
      "Epoch 44/100\n",
      "49/49 [==============================] - 101s 2s/step - loss: 0.4676 - accuracy: 0.8278 - val_loss: 0.6565 - val_accuracy: 0.7656\n",
      "Epoch 45/100\n",
      "49/49 [==============================] - 104s 2s/step - loss: 0.4422 - accuracy: 0.8402 - val_loss: 0.5996 - val_accuracy: 0.7922\n",
      "Epoch 46/100\n",
      "49/49 [==============================] - 116s 2s/step - loss: 0.4403 - accuracy: 0.8378 - val_loss: 0.5922 - val_accuracy: 0.7875\n",
      "Epoch 47/100\n",
      "49/49 [==============================] - 101s 2s/step - loss: 0.4352 - accuracy: 0.8417 - val_loss: 0.5925 - val_accuracy: 0.7859\n",
      "Epoch 48/100\n",
      "49/49 [==============================] - 99s 2s/step - loss: 0.4195 - accuracy: 0.8467 - val_loss: 0.6263 - val_accuracy: 0.7719\n",
      "Epoch 49/100\n",
      "49/49 [==============================] - 80s 2s/step - loss: 0.4368 - accuracy: 0.8407 - val_loss: 0.6163 - val_accuracy: 0.7828\n",
      "Epoch 50/100\n",
      "49/49 [==============================] - 88s 2s/step - loss: 0.4047 - accuracy: 0.8522 - val_loss: 0.6042 - val_accuracy: 0.7734\n",
      "Epoch 51/100\n",
      "49/49 [==============================] - 83s 2s/step - loss: 0.4120 - accuracy: 0.8521 - val_loss: 0.6464 - val_accuracy: 0.7672\n",
      "Epoch 52/100\n",
      "49/49 [==============================] - 86s 2s/step - loss: 0.4067 - accuracy: 0.8519 - val_loss: 0.6141 - val_accuracy: 0.7797\n",
      "Epoch 53/100\n",
      "49/49 [==============================] - 82s 2s/step - loss: 0.3907 - accuracy: 0.8615 - val_loss: 0.6816 - val_accuracy: 0.7453\n",
      "Epoch 54/100\n",
      "49/49 [==============================] - 96s 2s/step - loss: 0.3861 - accuracy: 0.8568 - val_loss: 0.7331 - val_accuracy: 0.7531\n",
      "Epoch 55/100\n",
      "49/49 [==============================] - 125s 3s/step - loss: 0.3792 - accuracy: 0.8571 - val_loss: 0.6707 - val_accuracy: 0.7656\n",
      "Epoch 56/100\n",
      "49/49 [==============================] - 102s 2s/step - loss: 0.3709 - accuracy: 0.8631 - val_loss: 0.6231 - val_accuracy: 0.7969\n",
      "Epoch 57/100\n",
      "49/49 [==============================] - 98s 2s/step - loss: 0.3769 - accuracy: 0.8618 - val_loss: 0.4784 - val_accuracy: 0.8234\n",
      "Epoch 58/100\n",
      "49/49 [==============================] - 97s 2s/step - loss: 0.3689 - accuracy: 0.8673 - val_loss: 0.5432 - val_accuracy: 0.8062\n",
      "Epoch 59/100\n",
      "49/49 [==============================] - 96s 2s/step - loss: 0.3679 - accuracy: 0.8658 - val_loss: 0.5166 - val_accuracy: 0.8188\n",
      "Epoch 60/100\n",
      "49/49 [==============================] - 89s 2s/step - loss: 0.3673 - accuracy: 0.8621 - val_loss: 0.4895 - val_accuracy: 0.8156\n",
      "Epoch 61/100\n",
      "49/49 [==============================] - 54s 1s/step - loss: 0.3617 - accuracy: 0.8644 - val_loss: 0.5690 - val_accuracy: 0.7875\n",
      "Epoch 62/100\n",
      "49/49 [==============================] - 55s 1s/step - loss: 0.3648 - accuracy: 0.8650 - val_loss: 0.5243 - val_accuracy: 0.8109\n",
      "Epoch 63/100\n",
      "49/49 [==============================] - 58s 1s/step - loss: 0.3340 - accuracy: 0.8780 - val_loss: 0.5832 - val_accuracy: 0.7984\n",
      "Epoch 64/100\n",
      "49/49 [==============================] - 61s 1s/step - loss: 0.3347 - accuracy: 0.8773 - val_loss: 0.4454 - val_accuracy: 0.8453\n",
      "Epoch 65/100\n",
      "49/49 [==============================] - 61s 1s/step - loss: 0.3418 - accuracy: 0.8720 - val_loss: 0.5164 - val_accuracy: 0.8328\n",
      "Epoch 66/100\n",
      "49/49 [==============================] - 61s 1s/step - loss: 0.3207 - accuracy: 0.8855 - val_loss: 0.5154 - val_accuracy: 0.8266\n",
      "Epoch 67/100\n",
      "49/49 [==============================] - 59s 1s/step - loss: 0.3340 - accuracy: 0.8777 - val_loss: 0.5779 - val_accuracy: 0.8000\n",
      "Epoch 68/100\n",
      "49/49 [==============================] - 52s 1s/step - loss: 0.3043 - accuracy: 0.8835 - val_loss: 0.5192 - val_accuracy: 0.8344\n",
      "Epoch 69/100\n",
      "49/49 [==============================] - 59s 1s/step - loss: 0.3124 - accuracy: 0.8869 - val_loss: 0.6254 - val_accuracy: 0.7781\n",
      "Epoch 70/100\n",
      "49/49 [==============================] - 59s 1s/step - loss: 0.3238 - accuracy: 0.8799 - val_loss: 0.5269 - val_accuracy: 0.8219\n",
      "Epoch 71/100\n",
      "49/49 [==============================] - 54s 1s/step - loss: 0.3140 - accuracy: 0.8866 - val_loss: 0.4793 - val_accuracy: 0.8313\n",
      "Epoch 72/100\n",
      "49/49 [==============================] - 52s 1s/step - loss: 0.3048 - accuracy: 0.8887 - val_loss: 0.5229 - val_accuracy: 0.8250\n",
      "Epoch 73/100\n",
      "49/49 [==============================] - 58s 1s/step - loss: 0.3162 - accuracy: 0.8863 - val_loss: 0.5054 - val_accuracy: 0.8203\n",
      "Epoch 74/100\n",
      "49/49 [==============================] - 55s 1s/step - loss: 0.3028 - accuracy: 0.8877 - val_loss: 0.5065 - val_accuracy: 0.8406\n",
      "Epoch 75/100\n",
      "49/49 [==============================] - 53s 1s/step - loss: 0.2961 - accuracy: 0.8913 - val_loss: 0.4234 - val_accuracy: 0.8531\n",
      "Epoch 76/100\n",
      "49/49 [==============================] - 52s 1s/step - loss: 0.2738 - accuracy: 0.8986 - val_loss: 0.4870 - val_accuracy: 0.8438\n",
      "Epoch 77/100\n",
      "49/49 [==============================] - 52s 1s/step - loss: 0.2862 - accuracy: 0.8992 - val_loss: 0.5213 - val_accuracy: 0.8328\n",
      "Epoch 78/100\n",
      "49/49 [==============================] - 53s 1s/step - loss: 0.2929 - accuracy: 0.8911 - val_loss: 0.4959 - val_accuracy: 0.8359\n",
      "Epoch 79/100\n",
      "49/49 [==============================] - 55s 1s/step - loss: 0.2818 - accuracy: 0.8995 - val_loss: 0.5307 - val_accuracy: 0.8281\n",
      "Epoch 80/100\n",
      "49/49 [==============================] - 52s 1s/step - loss: 0.2789 - accuracy: 0.8970 - val_loss: 0.4818 - val_accuracy: 0.8313\n",
      "Epoch 81/100\n",
      "49/49 [==============================] - 60s 1s/step - loss: 0.2701 - accuracy: 0.9042 - val_loss: 0.4538 - val_accuracy: 0.8516\n",
      "Epoch 82/100\n",
      "49/49 [==============================] - 57s 1s/step - loss: 0.2700 - accuracy: 0.9000 - val_loss: 0.4340 - val_accuracy: 0.8391\n",
      "Epoch 83/100\n",
      "49/49 [==============================] - 50s 1s/step - loss: 0.2668 - accuracy: 0.9036 - val_loss: 0.4249 - val_accuracy: 0.8578\n",
      "Epoch 84/100\n",
      "49/49 [==============================] - 41s 820ms/step - loss: 0.2865 - accuracy: 0.8957 - val_loss: 0.5164 - val_accuracy: 0.8328\n",
      "Epoch 85/100\n",
      "49/49 [==============================] - 43s 885ms/step - loss: 0.2790 - accuracy: 0.8981 - val_loss: 0.5261 - val_accuracy: 0.8203\n",
      "Epoch 86/100\n",
      "49/49 [==============================] - 49s 994ms/step - loss: 0.2620 - accuracy: 0.9049 - val_loss: 0.5051 - val_accuracy: 0.8344\n",
      "Epoch 87/100\n",
      "49/49 [==============================] - 49s 991ms/step - loss: 0.2722 - accuracy: 0.9020 - val_loss: 0.5706 - val_accuracy: 0.8062\n",
      "Epoch 88/100\n",
      "49/49 [==============================] - 47s 977ms/step - loss: 0.2727 - accuracy: 0.9041 - val_loss: 0.4332 - val_accuracy: 0.8594\n",
      "Epoch 89/100\n",
      "49/49 [==============================] - 49s 988ms/step - loss: 0.2413 - accuracy: 0.9159 - val_loss: 0.4701 - val_accuracy: 0.8391\n",
      "Epoch 90/100\n",
      "49/49 [==============================] - 47s 957ms/step - loss: 0.2455 - accuracy: 0.9106 - val_loss: 0.4088 - val_accuracy: 0.8844\n",
      "Epoch 91/100\n",
      "49/49 [==============================] - 50s 1s/step - loss: 0.2540 - accuracy: 0.9085 - val_loss: 0.3931 - val_accuracy: 0.8641\n",
      "Epoch 92/100\n",
      "49/49 [==============================] - 51s 1s/step - loss: 0.2699 - accuracy: 0.9034 - val_loss: 0.4576 - val_accuracy: 0.8531\n",
      "Epoch 93/100\n",
      "49/49 [==============================] - 58s 1s/step - loss: 0.2635 - accuracy: 0.9036 - val_loss: 0.4222 - val_accuracy: 0.8469\n",
      "Epoch 94/100\n",
      "49/49 [==============================] - 61s 1s/step - loss: 0.2588 - accuracy: 0.9098 - val_loss: 0.4227 - val_accuracy: 0.8578\n",
      "Epoch 95/100\n",
      "49/49 [==============================] - 58s 1s/step - loss: 0.2493 - accuracy: 0.9098 - val_loss: 0.3886 - val_accuracy: 0.8719\n",
      "Epoch 96/100\n",
      "49/49 [==============================] - 56s 1s/step - loss: 0.2362 - accuracy: 0.9169 - val_loss: 0.4654 - val_accuracy: 0.8547\n",
      "Epoch 97/100\n",
      "49/49 [==============================] - 56s 1s/step - loss: 0.2366 - accuracy: 0.9148 - val_loss: 0.5279 - val_accuracy: 0.8359\n",
      "Epoch 98/100\n",
      "49/49 [==============================] - 58s 1s/step - loss: 0.2371 - accuracy: 0.9141 - val_loss: 0.4067 - val_accuracy: 0.8625\n",
      "Epoch 99/100\n",
      "49/49 [==============================] - 56s 1s/step - loss: 0.2240 - accuracy: 0.9185 - val_loss: 0.4848 - val_accuracy: 0.8562\n",
      "Epoch 100/100\n",
      "49/49 [==============================] - 57s 1s/step - loss: 0.2369 - accuracy: 0.9140 - val_loss: 0.3739 - val_accuracy: 0.8672\n"
     ]
    }
   ],
   "source": [
    "epochs=100\n",
    "\n",
    "history=model.fit(train_generator,\n",
    "                steps_per_epoch=num_train_imgs//batch_size,\n",
    "                epochs=epochs,\n",
    "                validation_data=validation_generator,\n",
    "                validation_steps=num_test_imgs//batch_size)\n",
    "\n",
    "model.save('emotion_detection_model_100epochs.h5')"
   ]
  },
  {
   "cell_type": "code",
   "execution_count": 11,
   "metadata": {},
   "outputs": [
    {
     "ename": "NameError",
     "evalue": "name 'history' is not defined",
     "output_type": "error",
     "traceback": [
      "\u001b[1;31m---------------------------------------------------------------------------\u001b[0m",
      "\u001b[1;31mNameError\u001b[0m                                 Traceback (most recent call last)",
      "Cell \u001b[1;32mIn [11], line 2\u001b[0m\n\u001b[0;32m      1\u001b[0m \u001b[39m#plot the training and validation accuracy and loss at each epoch\u001b[39;00m\n\u001b[1;32m----> 2\u001b[0m loss \u001b[39m=\u001b[39m history\u001b[39m.\u001b[39mhistory[\u001b[39m'\u001b[39m\u001b[39mloss\u001b[39m\u001b[39m'\u001b[39m]\n\u001b[0;32m      3\u001b[0m val_loss \u001b[39m=\u001b[39m history\u001b[39m.\u001b[39mhistory[\u001b[39m'\u001b[39m\u001b[39mval_loss\u001b[39m\u001b[39m'\u001b[39m]\n\u001b[0;32m      4\u001b[0m epochs \u001b[39m=\u001b[39m \u001b[39mrange\u001b[39m(\u001b[39m1\u001b[39m, \u001b[39mlen\u001b[39m(loss) \u001b[39m+\u001b[39m \u001b[39m1\u001b[39m)\n",
      "\u001b[1;31mNameError\u001b[0m: name 'history' is not defined"
     ]
    }
   ],
   "source": [
    "#plot the training and validation accuracy and loss at each epoch\n",
    "loss = history.history['loss']\n",
    "val_loss = history.history['val_loss']\n",
    "epochs = range(1, len(loss) + 1)\n",
    "plt.plot(epochs, loss, 'y', label='Training loss')\n",
    "plt.plot(epochs, val_loss, 'r', label='Validation loss')\n",
    "plt.title('Training and validation loss')\n",
    "plt.xlabel('Epochs')\n",
    "plt.ylabel('Loss')\n",
    "plt.legend()\n",
    "plt.show()\n",
    "\n",
    "acc = history.history['accuracy']\n",
    "#acc = history.history['accuracy']\n",
    "val_acc = history.history['val_accuracy']\n",
    "#val_acc = history.history['val_accuracy']\n",
    "\n",
    "plt.plot(epochs, acc, 'y', label='Training acc')\n",
    "plt.plot(epochs, val_acc, 'r', label='Validation acc')\n",
    "plt.title('Training and validation accuracy')\n",
    "plt.xlabel('Epochs')\n",
    "plt.ylabel('Accuracy')\n",
    "plt.legend()\n",
    "plt.show()"
   ]
  },
  {
   "cell_type": "code",
   "execution_count": 19,
   "metadata": {},
   "outputs": [
    {
     "name": "stdout",
     "output_type": "stream",
     "text": [
      "2/2 [==============================] - 0s 73ms/step\n",
      "Accuracy =  0.9\n"
     ]
    }
   ],
   "source": [
    "#Test the model\n",
    "from keras.models import load_model\n",
    "my_model = load_model('emotion_detection_model_100epochs.h5', compile=False)\n",
    "\n",
    "#Generate a batch of images\n",
    "test_img, test_lbl = validation_generator.__next__()\n",
    "predictions=my_model.predict(test_img)\n",
    "\n",
    "predictions = np.argmax(predictions, axis=1)\n",
    "test_labels = np.argmax(test_lbl, axis=1)\n",
    "\n",
    "from sklearn import metrics\n",
    "print (\"Accuracy = \", metrics.accuracy_score(test_labels, predictions))"
   ]
  },
  {
   "cell_type": "code",
   "execution_count": 20,
   "metadata": {},
   "outputs": [
    {
     "name": "stdout",
     "output_type": "stream",
     "text": [
      "[[ 6  0  1  0  1  0  0]\n",
      " [ 0  8  0  0  0  0  0]\n",
      " [ 0  0  8  0  0  0  0]\n",
      " [ 0  0  0  8  1  0  0]\n",
      " [ 2  0  0  0  6  1  0]\n",
      " [ 0  0  0  0  0  8  0]\n",
      " [ 0  0  0  0  0  0 10]]\n"
     ]
    }
   ],
   "source": [
    "#Confusion Matrix - verify accuracy of each class\n",
    "from sklearn.metrics import confusion_matrix\n",
    "\n",
    "cm = confusion_matrix(test_labels, predictions)\n",
    "print(cm)\n"
   ]
  },
  {
   "cell_type": "code",
   "execution_count": 22,
   "metadata": {},
   "outputs": [
    {
     "data": {
      "image/png": "[encoded data removed]",
      "text/plain": [
       "<Figure size 1200x900 with 2 Axes>"
      ]
     },
     "metadata": {},
     "output_type": "display_data"
    }
   ],
   "source": [
    "import seaborn as sns\n",
    "import matplotlib.pyplot as plt\n",
    "fig, ax = plt.subplots(figsize=(12,9)) \n",
    "# ax = sns.heatmap(cf_matrix, annot=True, cmap='Blues')\n",
    "ax =sns.heatmap(cm, annot=True,fmt=\"d\",cmap='Oranges')\n",
    "ax.set_title('Confusion Matrix of  Testing data\\n\\n');\n",
    "ax.set_xlabel('\\nPredicted Emotion Category')\n",
    "ax.set_ylabel('Actual Emotion Category ');\n",
    "## Ticket labels - List must be in alphabetical order\n",
    "ax.xaxis.set_ticklabels(['Angry','Disgust', 'Fear', 'Happy','Neutral','Sad','Surprise'])\n",
    "ax.yaxis.set_ticklabels(['Angry','Disgust', 'Fear', 'Happy','Neutral','Sad','Surprise'])\n",
    "## Display the visualization of the Confusion Matrix.\n",
    "plt.show()"
   ]
  },
  {
   "cell_type": "code",
   "execution_count": 19,
   "metadata": {},
   "outputs": [
    {
     "data": {
      "image/png": "[encoded data removed]",
      "text/plain": [
       "<Figure size 640x480 with 2 Axes>"
      ]
     },
     "metadata": {},
     "output_type": "display_data"
    }
   ],
   "source": [
    "import seaborn as sns\n",
    "sns.heatmap(cm, annot=True)\n",
    "\n",
    "class_labels=['Angry','Disgust', 'Fear', 'Happy','Neutral','Sad','Surprise']\n",
    "#Check results on a few select images\n",
    "n=random.randint(0, test_img.shape[0] - 1)\n",
    "image = test_img[n]\n",
    "orig_labl = class_labels[test_labels[n]]\n",
    "pred_labl = class_labels[predictions[n]]\n",
    "plt.imshow(image[:,:,0], cmap='Oranges')\n",
    "plt.title(\"Original label is:\"+orig_labl+\" Predicted is: \"+ pred_labl)\n",
    "plt.show()"
   ]
  },
  {
   "cell_type": "code",
   "execution_count": null,
   "metadata": {},
   "outputs": [],
   "source": []
  },
  {
   "cell_type": "code",
   "execution_count": 14,
   "metadata": {},
   "outputs": [],
   "source": [
    "# from PIL import Image\n",
    "# import os, sys\n",
    "# import glob\n",
    "\n",
    "# root_dir = r\"C:\\Users\\sagor\\OneDrive\\Desktop\\Thesis\\newModel\\XData\\Train\\angry\"\n",
    "\n",
    "\n",
    "# for filename in glob.iglob(root_dir + '/*.jpg', recursive=True):\n",
    "#     print(filename)\n",
    "#     im = Image.open(filename)\n",
    "\n",
    "#     imResize = im.resize((48,48), Image.ANTIALIAS)\n",
    "#     imResize.save(filename , 'JPEG', quality=90)"
   ]
  }
 ],
 "metadata": {
  "kernelspec": {
   "display_name": "myDjangoEnv",
   "language": "python",
   "name": "python3"
  },
  "language_info": {
   "codemirror_mode": {
    "name": "ipython",
    "version": 3
   },
   "file_extension": ".py",
   "mimetype": "text/x-python",
   "name": "python",
   "nbconvert_exporter": "python",
   "pygments_lexer": "ipython3",
   "version": "3.10.9"
  },
  "orig_nbformat": 4,
  "vscode": {
   "interpreter": {
    "hash": "1543ba158f99869862bca292183dcdef9501667425aa9cd05ce46744aeadeca8"
   }
  }
 },
 "nbformat": 4,
 "nbformat_minor": 2
}
